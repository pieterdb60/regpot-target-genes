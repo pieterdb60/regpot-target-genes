{
 "cells": [
  {
   "cell_type": "code",
   "execution_count": 1,
   "metadata": {},
   "outputs": [],
   "source": [
    "import unittest\n",
    "import pandas as pd\n",
    "from pandas.testing import assert_frame_equal\n",
    "import os"
   ]
  },
  {
   "cell_type": "code",
   "execution_count": 2,
   "metadata": {},
   "outputs": [],
   "source": [
    "def extract_tf_binding_regions(files, tf_name):\n",
    "    tf_data = {}\n",
    "    for file in files:\n",
    "        df = pd.read_csv(file, sep='\\t', header=None)\n",
    "        df['TF'] = df[3].apply(lambda x: x.split(':')[0])\n",
    "        df_filtered = df[df['TF'] == tf_name]\n",
    "        genome_name = os.path.basename(file).split('_')[3]  # assuming the genome name is the fourth part of the file name\n",
    "        if genome_name not in tf_data:\n",
    "            tf_data[genome_name] = df_filtered\n",
    "        else:\n",
    "            tf_data[genome_name] = pd.concat([tf_data[genome_name], df_filtered])\n",
    "    return tf_data"
   ]
  },
  {
   "cell_type": "code",
   "execution_count": 3,
   "metadata": {},
   "outputs": [
    {
     "name": "stdout",
     "output_type": "stream",
     "text": [
      "Genome: remap2022\n",
      "         0       1       2                    3  4  5       6       7  \\\n",
      "460   chr1  778498  778761         IRF4:GM12878  1  .  778638  778639   \n",
      "1790  chr1  904694  904919  IRF4:GM12878,T-cell  2  .  904820  904821   \n",
      "2311  chr1  906812  907009         IRF4:GM12878  1  .  906889  906890   \n",
      "3992  chr1  920608  920756            IRF4:U266  1  .  920683  920684   \n",
      "5422  chr1  924757  924918            IRF4:U266  1  .  924824  924825   \n",
      "\n",
      "              8    TF  \n",
      "460   28,56,252  IRF4  \n",
      "1790  28,56,252  IRF4  \n",
      "2311  28,56,252  IRF4  \n",
      "3992  28,56,252  IRF4  \n",
      "5422  28,56,252  IRF4  \n"
     ]
    },
    {
     "name": "stderr",
     "output_type": "stream",
     "text": [
      ".\n",
      "----------------------------------------------------------------------\n",
      "Ran 1 test in 167.557s\n",
      "\n",
      "OK\n"
     ]
    }
   ],
   "source": [
    "class TestExtractTFBindingRegions(unittest.TestCase):\n",
    "    def setUp(self):\n",
    "        # Specify the files and transcription factor name\n",
    "        self.files = ['remap2022/remap2022_nr_macs2_hg38_v1_0.bed', 'remap2022/remap2022_nr_macs2_mm10_v1_0.bed']\n",
    "        self.tf_name = 'IRF4'\n",
    "\n",
    "    def test_extract_tf_binding_regions(self):\n",
    "        # Run the function\n",
    "        result = extract_tf_binding_regions(self.files, self.tf_name)\n",
    "\n",
    "        # Manually check a few entries in the result\n",
    "        # For example, you can print the first few rows of each DataFrame\n",
    "        for genome, df in result.items():\n",
    "            print(f'Genome: {genome}')\n",
    "            print(df.head())\n",
    "\n",
    "if __name__ == '__main__':\n",
    "    unittest.main(argv=['first-arg-is-ignored'], exit=False)"
   ]
  }
 ],
 "metadata": {
  "kernelspec": {
   "display_name": "base",
   "language": "python",
   "name": "python3"
  },
  "language_info": {
   "codemirror_mode": {
    "name": "ipython",
    "version": 3
   },
   "file_extension": ".py",
   "mimetype": "text/x-python",
   "name": "python",
   "nbconvert_exporter": "python",
   "pygments_lexer": "ipython3",
   "version": "3.11.8"
  }
 },
 "nbformat": 4,
 "nbformat_minor": 2
}
